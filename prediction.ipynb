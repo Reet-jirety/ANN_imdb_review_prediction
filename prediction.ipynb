{
 "cells": [
  {
   "cell_type": "code",
   "execution_count": 5,
   "metadata": {},
   "outputs": [],
   "source": [
    "# Step 1: Import Libraries and Load the Model\n",
    "import numpy as np\n",
    "import tensorflow as tf\n",
    "from tensorflow.keras.datasets import imdb\n",
    "from tensorflow.keras.preprocessing import sequence\n",
    "from tensorflow.keras.models import load_model"
   ]
  },
  {
   "cell_type": "code",
   "execution_count": 6,
   "metadata": {},
   "outputs": [],
   "source": [
    "\n",
    "# Load the IMDB dataset word index\n",
    "word_index = imdb.get_word_index()\n",
    "reverse_word_index = {value: key for key, value in word_index.items()}"
   ]
  },
  {
   "cell_type": "code",
   "execution_count": 7,
   "metadata": {},
   "outputs": [
    {
     "name": "stderr",
     "output_type": "stream",
     "text": [
      "WARNING:absl:Compiled the loaded model, but the compiled metrics have yet to be built. `model.compile_metrics` will be empty until you train or evaluate the model.\n"
     ]
    },
    {
     "data": {
      "text/html": [
       "<pre style=\"white-space:pre;overflow-x:auto;line-height:normal;font-family:Menlo,'DejaVu Sans Mono',consolas,'Courier New',monospace\"><span style=\"font-weight: bold\">Model: \"sequential\"</span>\n",
       "</pre>\n"
      ],
      "text/plain": [
       "\u001b[1mModel: \"sequential\"\u001b[0m\n"
      ]
     },
     "metadata": {},
     "output_type": "display_data"
    },
    {
     "data": {
      "text/html": [
       "<pre style=\"white-space:pre;overflow-x:auto;line-height:normal;font-family:Menlo,'DejaVu Sans Mono',consolas,'Courier New',monospace\">┏━━━━━━━━━━━━━━━━━━━━━━━━━━━━━━━━━┳━━━━━━━━━━━━━━━━━━━━━━━━┳━━━━━━━━━━━━━━━┓\n",
       "┃<span style=\"font-weight: bold\"> Layer (type)                    </span>┃<span style=\"font-weight: bold\"> Output Shape           </span>┃<span style=\"font-weight: bold\">       Param # </span>┃\n",
       "┡━━━━━━━━━━━━━━━━━━━━━━━━━━━━━━━━━╇━━━━━━━━━━━━━━━━━━━━━━━━╇━━━━━━━━━━━━━━━┩\n",
       "│ embedding (<span style=\"color: #0087ff; text-decoration-color: #0087ff\">Embedding</span>)           │ (<span style=\"color: #00af00; text-decoration-color: #00af00\">32</span>, <span style=\"color: #00af00; text-decoration-color: #00af00\">500</span>, <span style=\"color: #00af00; text-decoration-color: #00af00\">128</span>)         │     <span style=\"color: #00af00; text-decoration-color: #00af00\">1,280,000</span> │\n",
       "├─────────────────────────────────┼────────────────────────┼───────────────┤\n",
       "│ simple_rnn (<span style=\"color: #0087ff; text-decoration-color: #0087ff\">SimpleRNN</span>)          │ (<span style=\"color: #00af00; text-decoration-color: #00af00\">32</span>, <span style=\"color: #00af00; text-decoration-color: #00af00\">128</span>)              │        <span style=\"color: #00af00; text-decoration-color: #00af00\">32,896</span> │\n",
       "├─────────────────────────────────┼────────────────────────┼───────────────┤\n",
       "│ dense (<span style=\"color: #0087ff; text-decoration-color: #0087ff\">Dense</span>)                   │ (<span style=\"color: #00af00; text-decoration-color: #00af00\">32</span>, <span style=\"color: #00af00; text-decoration-color: #00af00\">1</span>)                │           <span style=\"color: #00af00; text-decoration-color: #00af00\">129</span> │\n",
       "└─────────────────────────────────┴────────────────────────┴───────────────┘\n",
       "</pre>\n"
      ],
      "text/plain": [
       "┏━━━━━━━━━━━━━━━━━━━━━━━━━━━━━━━━━┳━━━━━━━━━━━━━━━━━━━━━━━━┳━━━━━━━━━━━━━━━┓\n",
       "┃\u001b[1m \u001b[0m\u001b[1mLayer (type)                   \u001b[0m\u001b[1m \u001b[0m┃\u001b[1m \u001b[0m\u001b[1mOutput Shape          \u001b[0m\u001b[1m \u001b[0m┃\u001b[1m \u001b[0m\u001b[1m      Param #\u001b[0m\u001b[1m \u001b[0m┃\n",
       "┡━━━━━━━━━━━━━━━━━━━━━━━━━━━━━━━━━╇━━━━━━━━━━━━━━━━━━━━━━━━╇━━━━━━━━━━━━━━━┩\n",
       "│ embedding (\u001b[38;5;33mEmbedding\u001b[0m)           │ (\u001b[38;5;34m32\u001b[0m, \u001b[38;5;34m500\u001b[0m, \u001b[38;5;34m128\u001b[0m)         │     \u001b[38;5;34m1,280,000\u001b[0m │\n",
       "├─────────────────────────────────┼────────────────────────┼───────────────┤\n",
       "│ simple_rnn (\u001b[38;5;33mSimpleRNN\u001b[0m)          │ (\u001b[38;5;34m32\u001b[0m, \u001b[38;5;34m128\u001b[0m)              │        \u001b[38;5;34m32,896\u001b[0m │\n",
       "├─────────────────────────────────┼────────────────────────┼───────────────┤\n",
       "│ dense (\u001b[38;5;33mDense\u001b[0m)                   │ (\u001b[38;5;34m32\u001b[0m, \u001b[38;5;34m1\u001b[0m)                │           \u001b[38;5;34m129\u001b[0m │\n",
       "└─────────────────────────────────┴────────────────────────┴───────────────┘\n"
      ]
     },
     "metadata": {},
     "output_type": "display_data"
    },
    {
     "data": {
      "text/html": [
       "<pre style=\"white-space:pre;overflow-x:auto;line-height:normal;font-family:Menlo,'DejaVu Sans Mono',consolas,'Courier New',monospace\"><span style=\"font-weight: bold\"> Total params: </span><span style=\"color: #00af00; text-decoration-color: #00af00\">1,313,027</span> (5.01 MB)\n",
       "</pre>\n"
      ],
      "text/plain": [
       "\u001b[1m Total params: \u001b[0m\u001b[38;5;34m1,313,027\u001b[0m (5.01 MB)\n"
      ]
     },
     "metadata": {},
     "output_type": "display_data"
    },
    {
     "data": {
      "text/html": [
       "<pre style=\"white-space:pre;overflow-x:auto;line-height:normal;font-family:Menlo,'DejaVu Sans Mono',consolas,'Courier New',monospace\"><span style=\"font-weight: bold\"> Trainable params: </span><span style=\"color: #00af00; text-decoration-color: #00af00\">1,313,025</span> (5.01 MB)\n",
       "</pre>\n"
      ],
      "text/plain": [
       "\u001b[1m Trainable params: \u001b[0m\u001b[38;5;34m1,313,025\u001b[0m (5.01 MB)\n"
      ]
     },
     "metadata": {},
     "output_type": "display_data"
    },
    {
     "data": {
      "text/html": [
       "<pre style=\"white-space:pre;overflow-x:auto;line-height:normal;font-family:Menlo,'DejaVu Sans Mono',consolas,'Courier New',monospace\"><span style=\"font-weight: bold\"> Non-trainable params: </span><span style=\"color: #00af00; text-decoration-color: #00af00\">0</span> (0.00 B)\n",
       "</pre>\n"
      ],
      "text/plain": [
       "\u001b[1m Non-trainable params: \u001b[0m\u001b[38;5;34m0\u001b[0m (0.00 B)\n"
      ]
     },
     "metadata": {},
     "output_type": "display_data"
    },
    {
     "data": {
      "text/html": [
       "<pre style=\"white-space:pre;overflow-x:auto;line-height:normal;font-family:Menlo,'DejaVu Sans Mono',consolas,'Courier New',monospace\"><span style=\"font-weight: bold\"> Optimizer params: </span><span style=\"color: #00af00; text-decoration-color: #00af00\">2</span> (12.00 B)\n",
       "</pre>\n"
      ],
      "text/plain": [
       "\u001b[1m Optimizer params: \u001b[0m\u001b[38;5;34m2\u001b[0m (12.00 B)\n"
      ]
     },
     "metadata": {},
     "output_type": "display_data"
    }
   ],
   "source": [
    "# Load the pre-trained model with ReLU activation\n",
    "model = load_model('simple_rnn_imdb.h5')\n",
    "model.summary()"
   ]
  },
  {
   "cell_type": "code",
   "execution_count": 8,
   "metadata": {},
   "outputs": [
    {
     "data": {
      "text/plain": [
       "[array([[ 0.22740743, -0.2000437 , -0.08822883, ..., -0.2536308 ,\n",
       "         -0.08071816, -0.19483542],\n",
       "        [ 0.05628633, -0.01950708, -0.03617231, ..., -0.08677504,\n",
       "         -0.04550578,  0.06818171],\n",
       "        [-0.00994482,  0.06135618, -0.05206756, ..., -0.02221766,\n",
       "         -0.03943647,  0.02522074],\n",
       "        ...,\n",
       "        [ 0.05710586, -0.02914848,  0.03192898, ..., -0.01011913,\n",
       "          0.0726971 ,  0.04051132],\n",
       "        [ 0.04873228,  0.02146289, -0.00626805, ..., -0.01590477,\n",
       "          0.00621514, -0.02333297],\n",
       "        [-0.05057555,  0.01465236, -0.01796495, ...,  0.00555488,\n",
       "          0.07293315,  0.06502979]], dtype=float32),\n",
       " array([[ 0.05145891,  0.0520343 ,  0.1846192 , ...,  0.13684382,\n",
       "         -0.04899973, -0.17299153],\n",
       "        [ 0.14102787, -0.1790429 ,  0.16588125, ...,  0.04072187,\n",
       "          0.07339765,  0.06959704],\n",
       "        [-0.02178805, -0.10252428, -0.0902078 , ...,  0.01270945,\n",
       "         -0.0268098 , -0.03744352],\n",
       "        ...,\n",
       "        [ 0.18605645, -0.0905138 ,  0.0605528 , ...,  0.03939001,\n",
       "         -0.00916248,  0.15563886],\n",
       "        [-0.15208407,  0.15823744,  0.10872427, ..., -0.06838109,\n",
       "          0.12526052,  0.13294312],\n",
       "        [-0.03451037,  0.04750319,  0.01802997, ...,  0.08444779,\n",
       "         -0.1791187 ,  0.04571831]], dtype=float32),\n",
       " array([[-0.13758063, -0.09319571, -0.1035004 , ..., -0.14327498,\n",
       "         -0.03245636, -0.03788541],\n",
       "        [ 0.13356738, -0.0426989 , -0.17866695, ...,  0.11121592,\n",
       "         -0.03976933,  0.02566091],\n",
       "        [ 0.08372853,  0.01364519, -0.1319741 , ...,  0.04362669,\n",
       "          0.0468411 , -0.00959105],\n",
       "        ...,\n",
       "        [ 0.08559293,  0.00232493, -0.07263485, ..., -0.11042204,\n",
       "         -0.09060357,  0.13092262],\n",
       "        [ 0.01389223, -0.00880872,  0.05275682, ..., -0.03341267,\n",
       "          0.18443882,  0.03005254],\n",
       "        [-0.01267117, -0.10341015, -0.0343696 , ..., -0.18990032,\n",
       "          0.01860088, -0.29167268]], dtype=float32),\n",
       " array([-0.00640521, -0.04200073,  0.02868059, -0.02197944,  0.00801551,\n",
       "        -0.00079808, -0.02459086,  0.00573207, -0.02390289, -0.00512985,\n",
       "        -0.04743109, -0.00746339, -0.01582582, -0.01694995,  0.00108268,\n",
       "         0.00164848,  0.00098864,  0.03427561,  0.01408264,  0.0381534 ,\n",
       "         0.01700697, -0.04247148, -0.01151164,  0.0056212 , -0.01076073,\n",
       "        -0.01274374, -0.01169774,  0.00828077,  0.00991767, -0.02239928,\n",
       "        -0.0086582 ,  0.00856037, -0.04108962,  0.04636987, -0.00822587,\n",
       "         0.00185469,  0.01035869,  0.01937282, -0.02033108, -0.02187646,\n",
       "        -0.00839809, -0.00247838, -0.00316226, -0.00243136, -0.0338809 ,\n",
       "         0.00427304, -0.00859594,  0.00034755, -0.04119402,  0.01523172,\n",
       "         0.008391  , -0.03045209, -0.01246972,  0.08696083, -0.04907404,\n",
       "         0.00444035, -0.00532166,  0.03101596, -0.03079608, -0.0134091 ,\n",
       "        -0.01272936, -0.01882531, -0.03854579,  0.03586753, -0.03434123,\n",
       "         0.00311232, -0.04694794, -0.03239788,  0.00321015,  0.01816067,\n",
       "        -0.02221551,  0.03206864,  0.01508732, -0.0346436 , -0.03743006,\n",
       "        -0.01391919, -0.01024991,  0.01651089,  0.06350055, -0.01358056,\n",
       "         0.01450217,  0.01377965,  0.00998809,  0.00652219, -0.04196185,\n",
       "         0.00064476, -0.0159339 , -0.02313654,  0.00929816,  0.00837795,\n",
       "        -0.02275764,  0.00471238,  0.00048326, -0.00072549, -0.016676  ,\n",
       "         0.00152317, -0.02056416, -0.01966914, -0.01945465, -0.02225921,\n",
       "         0.0047742 , -0.05420875, -0.00248658, -0.01306642,  0.01215868,\n",
       "        -0.01964709, -0.01149875, -0.00991931, -0.01922208, -0.00438945,\n",
       "        -0.02963346,  0.04549943, -0.00672369,  0.02895348, -0.05053649,\n",
       "        -0.04139508, -0.03025645,  0.05855597,  0.01022321,  0.03996898,\n",
       "        -0.02978726,  0.01471927, -0.00407811, -0.04961396, -0.05818734,\n",
       "        -0.00546065, -0.00342342, -0.01084835], dtype=float32),\n",
       " array([[ 0.2171117 ],\n",
       "        [ 0.16741297],\n",
       "        [-0.09100243],\n",
       "        [-0.00169597],\n",
       "        [-0.13965538],\n",
       "        [ 0.17400897],\n",
       "        [-0.04848825],\n",
       "        [-0.06190956],\n",
       "        [ 0.11460206],\n",
       "        [-0.23313679],\n",
       "        [ 0.05404296],\n",
       "        [-0.4195256 ],\n",
       "        [ 0.28140888],\n",
       "        [-0.01909367],\n",
       "        [ 0.01305775],\n",
       "        [-0.14747785],\n",
       "        [ 0.26527336],\n",
       "        [-0.18373296],\n",
       "        [ 0.11823126],\n",
       "        [-0.16231242],\n",
       "        [ 0.06181678],\n",
       "        [ 0.02779653],\n",
       "        [-0.13031182],\n",
       "        [ 0.16444117],\n",
       "        [ 0.22531013],\n",
       "        [ 0.04116341],\n",
       "        [-0.10184921],\n",
       "        [-0.13720083],\n",
       "        [ 0.09648775],\n",
       "        [ 0.15270598],\n",
       "        [ 0.31379163],\n",
       "        [ 0.06423058],\n",
       "        [ 0.2065776 ],\n",
       "        [ 0.2672131 ],\n",
       "        [-0.21190038],\n",
       "        [ 0.291825  ],\n",
       "        [ 0.03088839],\n",
       "        [-0.2792625 ],\n",
       "        [ 0.15349665],\n",
       "        [-0.1812805 ],\n",
       "        [ 0.31289485],\n",
       "        [-0.08375105],\n",
       "        [-0.25671858],\n",
       "        [-0.03982385],\n",
       "        [ 0.04950204],\n",
       "        [ 0.09253244],\n",
       "        [ 0.20240903],\n",
       "        [ 0.22908181],\n",
       "        [ 0.25471953],\n",
       "        [ 0.22239955],\n",
       "        [ 0.31743416],\n",
       "        [ 0.11463449],\n",
       "        [ 0.23319322],\n",
       "        [ 0.28128424],\n",
       "        [ 0.04459392],\n",
       "        [ 0.30313882],\n",
       "        [ 0.1259767 ],\n",
       "        [-0.14441587],\n",
       "        [ 0.11269253],\n",
       "        [-0.18693449],\n",
       "        [-0.10272536],\n",
       "        [ 0.1918782 ],\n",
       "        [-0.18979727],\n",
       "        [-0.17931296],\n",
       "        [ 0.12315263],\n",
       "        [ 0.18408616],\n",
       "        [-0.05866855],\n",
       "        [-0.15021893],\n",
       "        [-0.21859425],\n",
       "        [ 0.20263694],\n",
       "        [ 0.02931826],\n",
       "        [ 0.3676666 ],\n",
       "        [ 0.24096683],\n",
       "        [ 0.26766664],\n",
       "        [-0.13059835],\n",
       "        [-0.3634315 ],\n",
       "        [ 0.29471326],\n",
       "        [-0.19644634],\n",
       "        [ 0.2796074 ],\n",
       "        [ 0.19539027],\n",
       "        [-0.23733103],\n",
       "        [-0.23415898],\n",
       "        [ 0.07656543],\n",
       "        [-0.18233612],\n",
       "        [ 0.13874681],\n",
       "        [ 0.27017432],\n",
       "        [ 0.1353764 ],\n",
       "        [ 0.20085785],\n",
       "        [ 0.03063732],\n",
       "        [-0.0095789 ],\n",
       "        [-0.03548003],\n",
       "        [ 0.20073162],\n",
       "        [-0.26568758],\n",
       "        [ 0.14879565],\n",
       "        [ 0.3707776 ],\n",
       "        [-0.11506863],\n",
       "        [-0.37495163],\n",
       "        [ 0.17525534],\n",
       "        [ 0.09405199],\n",
       "        [ 0.24349007],\n",
       "        [-0.35131517],\n",
       "        [ 0.14856361],\n",
       "        [-0.02860148],\n",
       "        [ 0.19682677],\n",
       "        [ 0.3232674 ],\n",
       "        [-0.25343093],\n",
       "        [ 0.18830234],\n",
       "        [ 0.2761285 ],\n",
       "        [ 0.13257784],\n",
       "        [-0.07890216],\n",
       "        [ 0.21928063],\n",
       "        [-0.08433987],\n",
       "        [-0.03821849],\n",
       "        [ 0.2633343 ],\n",
       "        [ 0.00809313],\n",
       "        [-0.03057901],\n",
       "        [ 0.0062006 ],\n",
       "        [ 0.33735967],\n",
       "        [-0.05593118],\n",
       "        [-0.14601138],\n",
       "        [ 0.00144569],\n",
       "        [-0.25767532],\n",
       "        [ 0.20454402],\n",
       "        [ 0.22716126],\n",
       "        [ 0.11200421],\n",
       "        [ 0.2511018 ],\n",
       "        [ 0.2586419 ],\n",
       "        [-0.02514894]], dtype=float32),\n",
       " array([0.06907878], dtype=float32)]"
      ]
     },
     "execution_count": 8,
     "metadata": {},
     "output_type": "execute_result"
    }
   ],
   "source": [
    "model.get_weights()"
   ]
  },
  {
   "cell_type": "code",
   "execution_count": 9,
   "metadata": {},
   "outputs": [],
   "source": [
    "# Step 2: Helper Functions\n",
    "# Function to decode reviews\n",
    "def decode_review(encoded_review):\n",
    "    return ' '.join([reverse_word_index.get(i - 3, '?') for i in encoded_review])\n",
    "\n",
    "# Function to preprocess user input\n",
    "def preprocess_text(text):\n",
    "    words = text.lower().split()\n",
    "    encoded_review = [word_index.get(word, 2) + 3 for word in words]\n",
    "    padded_review = sequence.pad_sequences([encoded_review], maxlen=500)\n",
    "    return padded_review"
   ]
  },
  {
   "cell_type": "code",
   "execution_count": 10,
   "metadata": {},
   "outputs": [],
   "source": [
    "### Prediction  function\n",
    "\n",
    "def predict_sentiment(review):\n",
    "    preprocessed_input=preprocess_text(review)\n",
    "\n",
    "    prediction=model.predict(preprocessed_input)\n",
    "\n",
    "    sentiment = 'Positive' if prediction[0][0] > 0.5 else 'Negative'\n",
    "    \n",
    "    return sentiment, prediction[0][0]\n",
    "\n"
   ]
  },
  {
   "cell_type": "code",
   "execution_count": 11,
   "metadata": {},
   "outputs": [
    {
     "name": "stdout",
     "output_type": "stream",
     "text": [
      "\u001b[1m1/1\u001b[0m \u001b[32m━━━━━━━━━━━━━━━━━━━━\u001b[0m\u001b[37m\u001b[0m \u001b[1m1s\u001b[0m 520ms/step\n",
      "Review: This movie was fantastic! The acting was great and the plot was thrilling.\n",
      "Sentiment: Positive\n",
      "Prediction Score: 0.5684245824813843\n"
     ]
    }
   ],
   "source": [
    "# Step 4: User Input and Prediction\n",
    "# Example review for prediction\n",
    "example_review = \"This movie was fantastic! The acting was great and the plot was thrilling.\"\n",
    "\n",
    "sentiment,score=predict_sentiment(example_review)\n",
    "\n",
    "print(f'Review: {example_review}')\n",
    "print(f'Sentiment: {sentiment}')\n",
    "print(f'Prediction Score: {score}')"
   ]
  },
  {
   "cell_type": "code",
   "execution_count": null,
   "metadata": {},
   "outputs": [],
   "source": []
  },
  {
   "cell_type": "code",
   "execution_count": null,
   "metadata": {},
   "outputs": [],
   "source": []
  },
  {
   "cell_type": "code",
   "execution_count": null,
   "metadata": {},
   "outputs": [],
   "source": []
  },
  {
   "cell_type": "code",
   "execution_count": null,
   "metadata": {},
   "outputs": [],
   "source": []
  }
 ],
 "metadata": {
  "kernelspec": {
   "display_name": "Python 3",
   "language": "python",
   "name": "python3"
  },
  "language_info": {
   "codemirror_mode": {
    "name": "ipython",
    "version": 3
   },
   "file_extension": ".py",
   "mimetype": "text/x-python",
   "name": "python",
   "nbconvert_exporter": "python",
   "pygments_lexer": "ipython3",
   "version": "3.11.8"
  }
 },
 "nbformat": 4,
 "nbformat_minor": 2
}
