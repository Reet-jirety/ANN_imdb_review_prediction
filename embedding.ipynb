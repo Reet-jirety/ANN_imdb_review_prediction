{
 "cells": [
  {
   "cell_type": "code",
   "execution_count": 24,
   "id": "e0b69472",
   "metadata": {},
   "outputs": [
    {
     "name": "stdout",
     "output_type": "stream",
     "text": [
      "Requirement already satisfied: tensorflow in /Users/reetjirety/Desktop/DA_GenAI_SD/Gen_AI/annclassification/venv/lib/python3.11/site-packages (2.19.0)\n",
      "Requirement already satisfied: absl-py>=1.0.0 in /Users/reetjirety/Desktop/DA_GenAI_SD/Gen_AI/annclassification/venv/lib/python3.11/site-packages (from tensorflow) (2.3.1)\n",
      "Requirement already satisfied: astunparse>=1.6.0 in /Users/reetjirety/Desktop/DA_GenAI_SD/Gen_AI/annclassification/venv/lib/python3.11/site-packages (from tensorflow) (1.6.3)\n",
      "Requirement already satisfied: flatbuffers>=24.3.25 in /Users/reetjirety/Desktop/DA_GenAI_SD/Gen_AI/annclassification/venv/lib/python3.11/site-packages (from tensorflow) (25.2.10)\n",
      "Requirement already satisfied: gast!=0.5.0,!=0.5.1,!=0.5.2,>=0.2.1 in /Users/reetjirety/Desktop/DA_GenAI_SD/Gen_AI/annclassification/venv/lib/python3.11/site-packages (from tensorflow) (0.6.0)\n",
      "Requirement already satisfied: google-pasta>=0.1.1 in /Users/reetjirety/Desktop/DA_GenAI_SD/Gen_AI/annclassification/venv/lib/python3.11/site-packages (from tensorflow) (0.2.0)\n",
      "Requirement already satisfied: libclang>=13.0.0 in /Users/reetjirety/Desktop/DA_GenAI_SD/Gen_AI/annclassification/venv/lib/python3.11/site-packages (from tensorflow) (18.1.1)\n",
      "Requirement already satisfied: opt-einsum>=2.3.2 in /Users/reetjirety/Desktop/DA_GenAI_SD/Gen_AI/annclassification/venv/lib/python3.11/site-packages (from tensorflow) (3.4.0)\n",
      "Requirement already satisfied: packaging in /Users/reetjirety/Desktop/DA_GenAI_SD/Gen_AI/annclassification/venv/lib/python3.11/site-packages (from tensorflow) (25.0)\n",
      "Requirement already satisfied: protobuf!=4.21.0,!=4.21.1,!=4.21.2,!=4.21.3,!=4.21.4,!=4.21.5,<6.0.0dev,>=3.20.3 in /Users/reetjirety/Desktop/DA_GenAI_SD/Gen_AI/annclassification/venv/lib/python3.11/site-packages (from tensorflow) (5.29.5)\n",
      "Requirement already satisfied: requests<3,>=2.21.0 in /Users/reetjirety/Desktop/DA_GenAI_SD/Gen_AI/annclassification/venv/lib/python3.11/site-packages (from tensorflow) (2.32.4)\n",
      "Requirement already satisfied: setuptools in /Users/reetjirety/Desktop/DA_GenAI_SD/Gen_AI/annclassification/venv/lib/python3.11/site-packages (from tensorflow) (78.1.1)\n",
      "Requirement already satisfied: six>=1.12.0 in /Users/reetjirety/Desktop/DA_GenAI_SD/Gen_AI/annclassification/venv/lib/python3.11/site-packages (from tensorflow) (1.17.0)\n",
      "Requirement already satisfied: termcolor>=1.1.0 in /Users/reetjirety/Desktop/DA_GenAI_SD/Gen_AI/annclassification/venv/lib/python3.11/site-packages (from tensorflow) (3.1.0)\n",
      "Requirement already satisfied: typing-extensions>=3.6.6 in /Users/reetjirety/Desktop/DA_GenAI_SD/Gen_AI/annclassification/venv/lib/python3.11/site-packages (from tensorflow) (4.14.1)\n",
      "Requirement already satisfied: wrapt>=1.11.0 in /Users/reetjirety/Desktop/DA_GenAI_SD/Gen_AI/annclassification/venv/lib/python3.11/site-packages (from tensorflow) (1.17.2)\n",
      "Requirement already satisfied: grpcio<2.0,>=1.24.3 in /Users/reetjirety/Desktop/DA_GenAI_SD/Gen_AI/annclassification/venv/lib/python3.11/site-packages (from tensorflow) (1.73.1)\n",
      "Requirement already satisfied: tensorboard~=2.19.0 in /Users/reetjirety/Desktop/DA_GenAI_SD/Gen_AI/annclassification/venv/lib/python3.11/site-packages (from tensorflow) (2.19.0)\n",
      "Requirement already satisfied: keras>=3.5.0 in /Users/reetjirety/Desktop/DA_GenAI_SD/Gen_AI/annclassification/venv/lib/python3.11/site-packages (from tensorflow) (3.10.0)\n",
      "Requirement already satisfied: numpy<2.2.0,>=1.26.0 in /Users/reetjirety/Desktop/DA_GenAI_SD/Gen_AI/annclassification/venv/lib/python3.11/site-packages (from tensorflow) (2.1.3)\n",
      "Requirement already satisfied: h5py>=3.11.0 in /Users/reetjirety/Desktop/DA_GenAI_SD/Gen_AI/annclassification/venv/lib/python3.11/site-packages (from tensorflow) (3.14.0)\n",
      "Requirement already satisfied: ml-dtypes<1.0.0,>=0.5.1 in /Users/reetjirety/Desktop/DA_GenAI_SD/Gen_AI/annclassification/venv/lib/python3.11/site-packages (from tensorflow) (0.5.1)\n",
      "Requirement already satisfied: tensorflow-io-gcs-filesystem>=0.23.1 in /Users/reetjirety/Desktop/DA_GenAI_SD/Gen_AI/annclassification/venv/lib/python3.11/site-packages (from tensorflow) (0.37.1)\n",
      "Requirement already satisfied: charset_normalizer<4,>=2 in /Users/reetjirety/Desktop/DA_GenAI_SD/Gen_AI/annclassification/venv/lib/python3.11/site-packages (from requests<3,>=2.21.0->tensorflow) (3.4.2)\n",
      "Requirement already satisfied: idna<4,>=2.5 in /Users/reetjirety/Desktop/DA_GenAI_SD/Gen_AI/annclassification/venv/lib/python3.11/site-packages (from requests<3,>=2.21.0->tensorflow) (3.10)\n",
      "Requirement already satisfied: urllib3<3,>=1.21.1 in /Users/reetjirety/Desktop/DA_GenAI_SD/Gen_AI/annclassification/venv/lib/python3.11/site-packages (from requests<3,>=2.21.0->tensorflow) (2.5.0)\n",
      "Requirement already satisfied: certifi>=2017.4.17 in /Users/reetjirety/Desktop/DA_GenAI_SD/Gen_AI/annclassification/venv/lib/python3.11/site-packages (from requests<3,>=2.21.0->tensorflow) (2025.7.9)\n",
      "Requirement already satisfied: markdown>=2.6.8 in /Users/reetjirety/Desktop/DA_GenAI_SD/Gen_AI/annclassification/venv/lib/python3.11/site-packages (from tensorboard~=2.19.0->tensorflow) (3.8.2)\n",
      "Requirement already satisfied: tensorboard-data-server<0.8.0,>=0.7.0 in /Users/reetjirety/Desktop/DA_GenAI_SD/Gen_AI/annclassification/venv/lib/python3.11/site-packages (from tensorboard~=2.19.0->tensorflow) (0.7.2)\n",
      "Requirement already satisfied: werkzeug>=1.0.1 in /Users/reetjirety/Desktop/DA_GenAI_SD/Gen_AI/annclassification/venv/lib/python3.11/site-packages (from tensorboard~=2.19.0->tensorflow) (3.1.3)\n",
      "Requirement already satisfied: wheel<1.0,>=0.23.0 in /Users/reetjirety/Desktop/DA_GenAI_SD/Gen_AI/annclassification/venv/lib/python3.11/site-packages (from astunparse>=1.6.0->tensorflow) (0.45.1)\n",
      "Requirement already satisfied: rich in /Users/reetjirety/Desktop/DA_GenAI_SD/Gen_AI/annclassification/venv/lib/python3.11/site-packages (from keras>=3.5.0->tensorflow) (14.0.0)\n",
      "Requirement already satisfied: namex in /Users/reetjirety/Desktop/DA_GenAI_SD/Gen_AI/annclassification/venv/lib/python3.11/site-packages (from keras>=3.5.0->tensorflow) (0.1.0)\n",
      "Requirement already satisfied: optree in /Users/reetjirety/Desktop/DA_GenAI_SD/Gen_AI/annclassification/venv/lib/python3.11/site-packages (from keras>=3.5.0->tensorflow) (0.16.0)\n",
      "Requirement already satisfied: MarkupSafe>=2.1.1 in /Users/reetjirety/Desktop/DA_GenAI_SD/Gen_AI/annclassification/venv/lib/python3.11/site-packages (from werkzeug>=1.0.1->tensorboard~=2.19.0->tensorflow) (3.0.2)\n",
      "Requirement already satisfied: markdown-it-py>=2.2.0 in /Users/reetjirety/Desktop/DA_GenAI_SD/Gen_AI/annclassification/venv/lib/python3.11/site-packages (from rich->keras>=3.5.0->tensorflow) (3.0.0)\n",
      "Requirement already satisfied: pygments<3.0.0,>=2.13.0 in /Users/reetjirety/Desktop/DA_GenAI_SD/Gen_AI/annclassification/venv/lib/python3.11/site-packages (from rich->keras>=3.5.0->tensorflow) (2.19.2)\n",
      "Requirement already satisfied: mdurl~=0.1 in /Users/reetjirety/Desktop/DA_GenAI_SD/Gen_AI/annclassification/venv/lib/python3.11/site-packages (from markdown-it-py>=2.2.0->rich->keras>=3.5.0->tensorflow) (0.1.2)\n",
      "Note: you may need to restart the kernel to use updated packages.\n",
      "Requirement already satisfied: keras in /Users/reetjirety/Desktop/DA_GenAI_SD/Gen_AI/annclassification/venv/lib/python3.11/site-packages (3.10.0)\n",
      "Requirement already satisfied: absl-py in /Users/reetjirety/Desktop/DA_GenAI_SD/Gen_AI/annclassification/venv/lib/python3.11/site-packages (from keras) (2.3.1)\n",
      "Requirement already satisfied: numpy in /Users/reetjirety/Desktop/DA_GenAI_SD/Gen_AI/annclassification/venv/lib/python3.11/site-packages (from keras) (2.1.3)\n",
      "Requirement already satisfied: rich in /Users/reetjirety/Desktop/DA_GenAI_SD/Gen_AI/annclassification/venv/lib/python3.11/site-packages (from keras) (14.0.0)\n",
      "Requirement already satisfied: namex in /Users/reetjirety/Desktop/DA_GenAI_SD/Gen_AI/annclassification/venv/lib/python3.11/site-packages (from keras) (0.1.0)\n",
      "Requirement already satisfied: h5py in /Users/reetjirety/Desktop/DA_GenAI_SD/Gen_AI/annclassification/venv/lib/python3.11/site-packages (from keras) (3.14.0)\n",
      "Requirement already satisfied: optree in /Users/reetjirety/Desktop/DA_GenAI_SD/Gen_AI/annclassification/venv/lib/python3.11/site-packages (from keras) (0.16.0)\n",
      "Requirement already satisfied: ml-dtypes in /Users/reetjirety/Desktop/DA_GenAI_SD/Gen_AI/annclassification/venv/lib/python3.11/site-packages (from keras) (0.5.1)\n",
      "Requirement already satisfied: packaging in /Users/reetjirety/Desktop/DA_GenAI_SD/Gen_AI/annclassification/venv/lib/python3.11/site-packages (from keras) (25.0)\n",
      "Requirement already satisfied: typing-extensions>=4.6.0 in /Users/reetjirety/Desktop/DA_GenAI_SD/Gen_AI/annclassification/venv/lib/python3.11/site-packages (from optree->keras) (4.14.1)\n",
      "Requirement already satisfied: markdown-it-py>=2.2.0 in /Users/reetjirety/Desktop/DA_GenAI_SD/Gen_AI/annclassification/venv/lib/python3.11/site-packages (from rich->keras) (3.0.0)\n",
      "Requirement already satisfied: pygments<3.0.0,>=2.13.0 in /Users/reetjirety/Desktop/DA_GenAI_SD/Gen_AI/annclassification/venv/lib/python3.11/site-packages (from rich->keras) (2.19.2)\n",
      "Requirement already satisfied: mdurl~=0.1 in /Users/reetjirety/Desktop/DA_GenAI_SD/Gen_AI/annclassification/venv/lib/python3.11/site-packages (from markdown-it-py>=2.2.0->rich->keras) (0.1.2)\n",
      "Note: you may need to restart the kernel to use updated packages.\n"
     ]
    }
   ],
   "source": [
    "%pip install tensorflow\n",
    "%pip install keras"
   ]
  },
  {
   "cell_type": "code",
   "execution_count": 25,
   "id": "76fc941a",
   "metadata": {},
   "outputs": [],
   "source": [
    "from tensorflow.keras.preprocessing.text import one_hot"
   ]
  },
  {
   "cell_type": "code",
   "execution_count": 26,
   "id": "251a9782",
   "metadata": {},
   "outputs": [],
   "source": [
    "sent = [  'the glass of milk',\n",
    "     'the glass of juice',\n",
    "     'the cup of tea',\n",
    "    'I am a good boy',\n",
    "     'I am a good developer',\n",
    "     'understand the meaning of words',\n",
    "     'your videos are good',]"
   ]
  },
  {
   "cell_type": "code",
   "execution_count": 27,
   "id": "5f2b822a",
   "metadata": {},
   "outputs": [],
   "source": [
    "voc_size = 10000"
   ]
  },
  {
   "cell_type": "code",
   "execution_count": 28,
   "id": "74095c56",
   "metadata": {},
   "outputs": [
    {
     "data": {
      "text/plain": [
       "[[9134, 1276, 3305, 3011],\n",
       " [9134, 1276, 3305, 1847],\n",
       " [9134, 5724, 3305, 9098],\n",
       " [5693, 8480, 9687, 7866, 7138],\n",
       " [5693, 8480, 9687, 7866, 7881],\n",
       " [9577, 9134, 4919, 3305, 9009],\n",
       " [4142, 9164, 2174, 7866]]"
      ]
     },
     "execution_count": 28,
     "metadata": {},
     "output_type": "execute_result"
    }
   ],
   "source": [
    "one_hot_rep = [one_hot(words,voc_size)for words in sent]\n",
    "one_hot_rep"
   ]
  },
  {
   "cell_type": "code",
   "execution_count": 29,
   "id": "7c880a60",
   "metadata": {},
   "outputs": [],
   "source": [
    "## word Embedding Representation\n",
    "\n",
    "from tensorflow.keras.layers import Embedding\n",
    "# from tensorflow.keras.processing.sequence import pad_sequences\n",
    "from tensorflow.keras.utils import pad_sequences\n",
    "from tensorflow.keras.models import Sequential"
   ]
  },
  {
   "cell_type": "code",
   "execution_count": 30,
   "id": "fa6e5f55",
   "metadata": {},
   "outputs": [],
   "source": [
    "import numpy as np"
   ]
  },
  {
   "cell_type": "code",
   "execution_count": 31,
   "id": "e1e56fa4",
   "metadata": {},
   "outputs": [
    {
     "name": "stdout",
     "output_type": "stream",
     "text": [
      "[[   0    0    0    0 9134 1276 3305 3011]\n",
      " [   0    0    0    0 9134 1276 3305 1847]\n",
      " [   0    0    0    0 9134 5724 3305 9098]\n",
      " [   0    0    0 5693 8480 9687 7866 7138]\n",
      " [   0    0    0 5693 8480 9687 7866 7881]\n",
      " [   0    0    0 9577 9134 4919 3305 9009]\n",
      " [   0    0    0    0 4142 9164 2174 7866]]\n"
     ]
    }
   ],
   "source": [
    "sent_len = 8\n",
    "embedded_docs = pad_sequences(one_hot_rep, padding = 'pre', maxlen=sent_len)\n",
    "print(embedded_docs)"
   ]
  },
  {
   "cell_type": "code",
   "execution_count": 32,
   "id": "24c7adee",
   "metadata": {},
   "outputs": [],
   "source": [
    "#feature representation\n",
    "dim = 10"
   ]
  },
  {
   "cell_type": "code",
   "execution_count": 33,
   "id": "8b0bc2c7",
   "metadata": {},
   "outputs": [
    {
     "name": "stderr",
     "output_type": "stream",
     "text": [
      "/Users/reetjirety/Desktop/DA_GenAI_SD/Gen_AI/annclassification/venv/lib/python3.11/site-packages/keras/src/layers/core/embedding.py:97: UserWarning: Argument `input_length` is deprecated. Just remove it.\n",
      "  warnings.warn(\n"
     ]
    }
   ],
   "source": [
    "\n",
    "model=Sequential()\n",
    "model.add(Embedding(voc_size,dim,input_length=sent_len))\n",
    "model.compile('adam','mse')"
   ]
  },
  {
   "cell_type": "code",
   "execution_count": 34,
   "id": "d2a7f067",
   "metadata": {},
   "outputs": [
    {
     "data": {
      "text/html": [
       "<pre style=\"white-space:pre;overflow-x:auto;line-height:normal;font-family:Menlo,'DejaVu Sans Mono',consolas,'Courier New',monospace\"><span style=\"font-weight: bold\">Model: \"sequential_3\"</span>\n",
       "</pre>\n"
      ],
      "text/plain": [
       "\u001b[1mModel: \"sequential_3\"\u001b[0m\n"
      ]
     },
     "metadata": {},
     "output_type": "display_data"
    },
    {
     "data": {
      "text/html": [
       "<pre style=\"white-space:pre;overflow-x:auto;line-height:normal;font-family:Menlo,'DejaVu Sans Mono',consolas,'Courier New',monospace\">┏━━━━━━━━━━━━━━━━━━━━━━━━━━━━━━━━━┳━━━━━━━━━━━━━━━━━━━━━━━━┳━━━━━━━━━━━━━━━┓\n",
       "┃<span style=\"font-weight: bold\"> Layer (type)                    </span>┃<span style=\"font-weight: bold\"> Output Shape           </span>┃<span style=\"font-weight: bold\">       Param # </span>┃\n",
       "┡━━━━━━━━━━━━━━━━━━━━━━━━━━━━━━━━━╇━━━━━━━━━━━━━━━━━━━━━━━━╇━━━━━━━━━━━━━━━┩\n",
       "│ embedding_3 (<span style=\"color: #0087ff; text-decoration-color: #0087ff\">Embedding</span>)         │ ?                      │   <span style=\"color: #00af00; text-decoration-color: #00af00\">0</span> (unbuilt) │\n",
       "└─────────────────────────────────┴────────────────────────┴───────────────┘\n",
       "</pre>\n"
      ],
      "text/plain": [
       "┏━━━━━━━━━━━━━━━━━━━━━━━━━━━━━━━━━┳━━━━━━━━━━━━━━━━━━━━━━━━┳━━━━━━━━━━━━━━━┓\n",
       "┃\u001b[1m \u001b[0m\u001b[1mLayer (type)                   \u001b[0m\u001b[1m \u001b[0m┃\u001b[1m \u001b[0m\u001b[1mOutput Shape          \u001b[0m\u001b[1m \u001b[0m┃\u001b[1m \u001b[0m\u001b[1m      Param #\u001b[0m\u001b[1m \u001b[0m┃\n",
       "┡━━━━━━━━━━━━━━━━━━━━━━━━━━━━━━━━━╇━━━━━━━━━━━━━━━━━━━━━━━━╇━━━━━━━━━━━━━━━┩\n",
       "│ embedding_3 (\u001b[38;5;33mEmbedding\u001b[0m)         │ ?                      │   \u001b[38;5;34m0\u001b[0m (unbuilt) │\n",
       "└─────────────────────────────────┴────────────────────────┴───────────────┘\n"
      ]
     },
     "metadata": {},
     "output_type": "display_data"
    },
    {
     "data": {
      "text/html": [
       "<pre style=\"white-space:pre;overflow-x:auto;line-height:normal;font-family:Menlo,'DejaVu Sans Mono',consolas,'Courier New',monospace\"><span style=\"font-weight: bold\"> Total params: </span><span style=\"color: #00af00; text-decoration-color: #00af00\">0</span> (0.00 B)\n",
       "</pre>\n"
      ],
      "text/plain": [
       "\u001b[1m Total params: \u001b[0m\u001b[38;5;34m0\u001b[0m (0.00 B)\n"
      ]
     },
     "metadata": {},
     "output_type": "display_data"
    },
    {
     "data": {
      "text/html": [
       "<pre style=\"white-space:pre;overflow-x:auto;line-height:normal;font-family:Menlo,'DejaVu Sans Mono',consolas,'Courier New',monospace\"><span style=\"font-weight: bold\"> Trainable params: </span><span style=\"color: #00af00; text-decoration-color: #00af00\">0</span> (0.00 B)\n",
       "</pre>\n"
      ],
      "text/plain": [
       "\u001b[1m Trainable params: \u001b[0m\u001b[38;5;34m0\u001b[0m (0.00 B)\n"
      ]
     },
     "metadata": {},
     "output_type": "display_data"
    },
    {
     "data": {
      "text/html": [
       "<pre style=\"white-space:pre;overflow-x:auto;line-height:normal;font-family:Menlo,'DejaVu Sans Mono',consolas,'Courier New',monospace\"><span style=\"font-weight: bold\"> Non-trainable params: </span><span style=\"color: #00af00; text-decoration-color: #00af00\">0</span> (0.00 B)\n",
       "</pre>\n"
      ],
      "text/plain": [
       "\u001b[1m Non-trainable params: \u001b[0m\u001b[38;5;34m0\u001b[0m (0.00 B)\n"
      ]
     },
     "metadata": {},
     "output_type": "display_data"
    }
   ],
   "source": [
    "model.summary()"
   ]
  },
  {
   "cell_type": "code",
   "execution_count": 36,
   "id": "1134393f",
   "metadata": {},
   "outputs": [
    {
     "name": "stdout",
     "output_type": "stream",
     "text": [
      "\u001b[1m1/1\u001b[0m \u001b[32m━━━━━━━━━━━━━━━━━━━━\u001b[0m\u001b[37m\u001b[0m \u001b[1m0s\u001b[0m 161ms/step\n"
     ]
    },
    {
     "data": {
      "text/plain": [
       "array([[[-0.03844932,  0.04591182, -0.01440092, -0.03200554,\n",
       "         -0.03509124,  0.02547506, -0.02539626, -0.00576701,\n",
       "          0.01962968, -0.04614649],\n",
       "        [-0.03844932,  0.04591182, -0.01440092, -0.03200554,\n",
       "         -0.03509124,  0.02547506, -0.02539626, -0.00576701,\n",
       "          0.01962968, -0.04614649],\n",
       "        [-0.03844932,  0.04591182, -0.01440092, -0.03200554,\n",
       "         -0.03509124,  0.02547506, -0.02539626, -0.00576701,\n",
       "          0.01962968, -0.04614649],\n",
       "        [-0.03844932,  0.04591182, -0.01440092, -0.03200554,\n",
       "         -0.03509124,  0.02547506, -0.02539626, -0.00576701,\n",
       "          0.01962968, -0.04614649],\n",
       "        [ 0.01804204,  0.02299482, -0.01811635,  0.04820316,\n",
       "         -0.0275884 , -0.04051309, -0.03638359, -0.03237821,\n",
       "         -0.00050963,  0.04013094],\n",
       "        [ 0.00695913,  0.04631057,  0.01037077,  0.01100198,\n",
       "          0.00187756, -0.02313113, -0.03756236, -0.04461829,\n",
       "         -0.01517618,  0.02993302],\n",
       "        [-0.02111706, -0.04019944,  0.03628545, -0.00559034,\n",
       "         -0.01192192,  0.03950796,  0.0312486 ,  0.03559953,\n",
       "          0.02454076,  0.02768311],\n",
       "        [-0.0260703 ,  0.04584025, -0.02810541, -0.02151691,\n",
       "          0.03151769,  0.040984  ,  0.03477265,  0.00171806,\n",
       "          0.02872266,  0.01265761]],\n",
       "\n",
       "       [[-0.03844932,  0.04591182, -0.01440092, -0.03200554,\n",
       "         -0.03509124,  0.02547506, -0.02539626, -0.00576701,\n",
       "          0.01962968, -0.04614649],\n",
       "        [-0.03844932,  0.04591182, -0.01440092, -0.03200554,\n",
       "         -0.03509124,  0.02547506, -0.02539626, -0.00576701,\n",
       "          0.01962968, -0.04614649],\n",
       "        [-0.03844932,  0.04591182, -0.01440092, -0.03200554,\n",
       "         -0.03509124,  0.02547506, -0.02539626, -0.00576701,\n",
       "          0.01962968, -0.04614649],\n",
       "        [-0.03844932,  0.04591182, -0.01440092, -0.03200554,\n",
       "         -0.03509124,  0.02547506, -0.02539626, -0.00576701,\n",
       "          0.01962968, -0.04614649],\n",
       "        [ 0.01804204,  0.02299482, -0.01811635,  0.04820316,\n",
       "         -0.0275884 , -0.04051309, -0.03638359, -0.03237821,\n",
       "         -0.00050963,  0.04013094],\n",
       "        [ 0.00695913,  0.04631057,  0.01037077,  0.01100198,\n",
       "          0.00187756, -0.02313113, -0.03756236, -0.04461829,\n",
       "         -0.01517618,  0.02993302],\n",
       "        [-0.02111706, -0.04019944,  0.03628545, -0.00559034,\n",
       "         -0.01192192,  0.03950796,  0.0312486 ,  0.03559953,\n",
       "          0.02454076,  0.02768311],\n",
       "        [ 0.03562449,  0.04980116,  0.03147188, -0.01642624,\n",
       "          0.03374609, -0.04891783,  0.02899035, -0.00385355,\n",
       "         -0.02339335, -0.04400296]],\n",
       "\n",
       "       [[-0.03844932,  0.04591182, -0.01440092, -0.03200554,\n",
       "         -0.03509124,  0.02547506, -0.02539626, -0.00576701,\n",
       "          0.01962968, -0.04614649],\n",
       "        [-0.03844932,  0.04591182, -0.01440092, -0.03200554,\n",
       "         -0.03509124,  0.02547506, -0.02539626, -0.00576701,\n",
       "          0.01962968, -0.04614649],\n",
       "        [-0.03844932,  0.04591182, -0.01440092, -0.03200554,\n",
       "         -0.03509124,  0.02547506, -0.02539626, -0.00576701,\n",
       "          0.01962968, -0.04614649],\n",
       "        [-0.03844932,  0.04591182, -0.01440092, -0.03200554,\n",
       "         -0.03509124,  0.02547506, -0.02539626, -0.00576701,\n",
       "          0.01962968, -0.04614649],\n",
       "        [ 0.01804204,  0.02299482, -0.01811635,  0.04820316,\n",
       "         -0.0275884 , -0.04051309, -0.03638359, -0.03237821,\n",
       "         -0.00050963,  0.04013094],\n",
       "        [ 0.00783998, -0.0168554 , -0.00407659, -0.01439536,\n",
       "          0.03133109,  0.04509557,  0.00752195, -0.01725528,\n",
       "         -0.02926632,  0.03916179],\n",
       "        [-0.02111706, -0.04019944,  0.03628545, -0.00559034,\n",
       "         -0.01192192,  0.03950796,  0.0312486 ,  0.03559953,\n",
       "          0.02454076,  0.02768311],\n",
       "        [-0.00300939, -0.03909164,  0.04015735,  0.02593501,\n",
       "         -0.01828115, -0.0196964 ,  0.01419951, -0.04939763,\n",
       "         -0.01884288, -0.01448299]],\n",
       "\n",
       "       [[-0.03844932,  0.04591182, -0.01440092, -0.03200554,\n",
       "         -0.03509124,  0.02547506, -0.02539626, -0.00576701,\n",
       "          0.01962968, -0.04614649],\n",
       "        [-0.03844932,  0.04591182, -0.01440092, -0.03200554,\n",
       "         -0.03509124,  0.02547506, -0.02539626, -0.00576701,\n",
       "          0.01962968, -0.04614649],\n",
       "        [-0.03844932,  0.04591182, -0.01440092, -0.03200554,\n",
       "         -0.03509124,  0.02547506, -0.02539626, -0.00576701,\n",
       "          0.01962968, -0.04614649],\n",
       "        [-0.01606946,  0.02605304,  0.00445931, -0.01474137,\n",
       "         -0.03813524,  0.04799279,  0.02010444, -0.01182052,\n",
       "          0.04574311,  0.03179947],\n",
       "        [-0.000705  ,  0.00627523, -0.02291288,  0.03725257,\n",
       "          0.00722154,  0.00313004, -0.04199576, -0.01094148,\n",
       "          0.02598811, -0.04107374],\n",
       "        [ 0.00740348,  0.01362288, -0.04104328, -0.01018295,\n",
       "          0.01585949, -0.03082768, -0.00667683, -0.02804852,\n",
       "         -0.04055042, -0.02840396],\n",
       "        [ 0.00594427,  0.01598949,  0.0149456 ,  0.03890038,\n",
       "          0.03348385,  0.04235338,  0.00989021, -0.01394559,\n",
       "         -0.02653939, -0.00077516],\n",
       "        [-0.04826663, -0.02324973,  0.02102716, -0.03737271,\n",
       "         -0.00199863,  0.02715817,  0.04622955,  0.03635515,\n",
       "          0.01777374, -0.00570642]],\n",
       "\n",
       "       [[-0.03844932,  0.04591182, -0.01440092, -0.03200554,\n",
       "         -0.03509124,  0.02547506, -0.02539626, -0.00576701,\n",
       "          0.01962968, -0.04614649],\n",
       "        [-0.03844932,  0.04591182, -0.01440092, -0.03200554,\n",
       "         -0.03509124,  0.02547506, -0.02539626, -0.00576701,\n",
       "          0.01962968, -0.04614649],\n",
       "        [-0.03844932,  0.04591182, -0.01440092, -0.03200554,\n",
       "         -0.03509124,  0.02547506, -0.02539626, -0.00576701,\n",
       "          0.01962968, -0.04614649],\n",
       "        [-0.01606946,  0.02605304,  0.00445931, -0.01474137,\n",
       "         -0.03813524,  0.04799279,  0.02010444, -0.01182052,\n",
       "          0.04574311,  0.03179947],\n",
       "        [-0.000705  ,  0.00627523, -0.02291288,  0.03725257,\n",
       "          0.00722154,  0.00313004, -0.04199576, -0.01094148,\n",
       "          0.02598811, -0.04107374],\n",
       "        [ 0.00740348,  0.01362288, -0.04104328, -0.01018295,\n",
       "          0.01585949, -0.03082768, -0.00667683, -0.02804852,\n",
       "         -0.04055042, -0.02840396],\n",
       "        [ 0.00594427,  0.01598949,  0.0149456 ,  0.03890038,\n",
       "          0.03348385,  0.04235338,  0.00989021, -0.01394559,\n",
       "         -0.02653939, -0.00077516],\n",
       "        [ 0.00784215,  0.02262462,  0.03680653, -0.00708816,\n",
       "          0.00702841,  0.04972279, -0.01284938,  0.04422612,\n",
       "          0.04525931,  0.01049644]],\n",
       "\n",
       "       [[-0.03844932,  0.04591182, -0.01440092, -0.03200554,\n",
       "         -0.03509124,  0.02547506, -0.02539626, -0.00576701,\n",
       "          0.01962968, -0.04614649],\n",
       "        [-0.03844932,  0.04591182, -0.01440092, -0.03200554,\n",
       "         -0.03509124,  0.02547506, -0.02539626, -0.00576701,\n",
       "          0.01962968, -0.04614649],\n",
       "        [-0.03844932,  0.04591182, -0.01440092, -0.03200554,\n",
       "         -0.03509124,  0.02547506, -0.02539626, -0.00576701,\n",
       "          0.01962968, -0.04614649],\n",
       "        [ 0.0220156 ,  0.01138375,  0.02117865,  0.03802775,\n",
       "          0.03849921,  0.0077149 , -0.04534465, -0.02638282,\n",
       "          0.01735744,  0.0437968 ],\n",
       "        [ 0.01804204,  0.02299482, -0.01811635,  0.04820316,\n",
       "         -0.0275884 , -0.04051309, -0.03638359, -0.03237821,\n",
       "         -0.00050963,  0.04013094],\n",
       "        [-0.0376578 ,  0.01114725, -0.04971061, -0.02239721,\n",
       "         -0.00717962, -0.01979468,  0.02580065, -0.01911519,\n",
       "          0.03590715,  0.03012464],\n",
       "        [-0.02111706, -0.04019944,  0.03628545, -0.00559034,\n",
       "         -0.01192192,  0.03950796,  0.0312486 ,  0.03559953,\n",
       "          0.02454076,  0.02768311],\n",
       "        [ 0.01860969,  0.00096007, -0.02992988, -0.00111288,\n",
       "         -0.01212355, -0.03534752,  0.00956786,  0.01441682,\n",
       "          0.03803155, -0.03484628]],\n",
       "\n",
       "       [[-0.03844932,  0.04591182, -0.01440092, -0.03200554,\n",
       "         -0.03509124,  0.02547506, -0.02539626, -0.00576701,\n",
       "          0.01962968, -0.04614649],\n",
       "        [-0.03844932,  0.04591182, -0.01440092, -0.03200554,\n",
       "         -0.03509124,  0.02547506, -0.02539626, -0.00576701,\n",
       "          0.01962968, -0.04614649],\n",
       "        [-0.03844932,  0.04591182, -0.01440092, -0.03200554,\n",
       "         -0.03509124,  0.02547506, -0.02539626, -0.00576701,\n",
       "          0.01962968, -0.04614649],\n",
       "        [-0.03844932,  0.04591182, -0.01440092, -0.03200554,\n",
       "         -0.03509124,  0.02547506, -0.02539626, -0.00576701,\n",
       "          0.01962968, -0.04614649],\n",
       "        [ 0.03523329, -0.04677694,  0.04272955,  0.00128193,\n",
       "          0.00144567, -0.04950029,  0.0114427 ,  0.00113478,\n",
       "          0.04675115,  0.00193316],\n",
       "        [-0.04163415, -0.0007484 ,  0.04321381, -0.02558503,\n",
       "         -0.04326854, -0.04443074, -0.0426719 ,  0.00156789,\n",
       "          0.02441389,  0.02526936],\n",
       "        [-0.0110669 , -0.01827859, -0.00462802, -0.00573207,\n",
       "         -0.03412795,  0.01727114, -0.02263621,  0.00067568,\n",
       "         -0.00817567, -0.03543264],\n",
       "        [ 0.00594427,  0.01598949,  0.0149456 ,  0.03890038,\n",
       "          0.03348385,  0.04235338,  0.00989021, -0.01394559,\n",
       "         -0.02653939, -0.00077516]]], dtype=float32)"
      ]
     },
     "execution_count": 36,
     "metadata": {},
     "output_type": "execute_result"
    }
   ],
   "source": [
    "model.predict(embedded_docs)"
   ]
  },
  {
   "cell_type": "code",
   "execution_count": 37,
   "id": "fda05d1e",
   "metadata": {},
   "outputs": [
    {
     "data": {
      "text/plain": [
       "array([   0,    0,    0,    0, 9134, 1276, 3305, 3011], dtype=int32)"
      ]
     },
     "execution_count": 37,
     "metadata": {},
     "output_type": "execute_result"
    }
   ],
   "source": [
    "embedded_docs[0]"
   ]
  },
  {
   "cell_type": "code",
   "execution_count": null,
   "id": "81777c21",
   "metadata": {},
   "outputs": [
    {
     "ename": "ValueError",
     "evalue": "Exception encountered when calling Sequential.call().\n\n\u001b[1mCannot take the length of shape with unknown rank.\u001b[0m\n\nArguments received by Sequential.call():\n  • inputs=tf.Tensor(shape=<unknown>, dtype=int32)\n  • training=False\n  • mask=None\n  • kwargs=<class 'inspect._empty'>",
     "output_type": "error",
     "traceback": [
      "\u001b[31m---------------------------------------------------------------------------\u001b[39m",
      "\u001b[31mValueError\u001b[39m                                Traceback (most recent call last)",
      "\u001b[36mCell\u001b[39m\u001b[36m \u001b[39m\u001b[32mIn[39]\u001b[39m\u001b[32m, line 1\u001b[39m\n\u001b[32m----> \u001b[39m\u001b[32m1\u001b[39m \u001b[43mmodel\u001b[49m\u001b[43m.\u001b[49m\u001b[43mpredict\u001b[49m\u001b[43m(\u001b[49m\u001b[43membedded_docs\u001b[49m\u001b[43m[\u001b[49m\u001b[32;43m0\u001b[39;49m\u001b[43m]\u001b[49m\u001b[43m)\u001b[49m\n",
      "\u001b[36mFile \u001b[39m\u001b[32m~/Desktop/DA_GenAI_SD/Gen_AI/annclassification/venv/lib/python3.11/site-packages/keras/src/utils/traceback_utils.py:122\u001b[39m, in \u001b[36mfilter_traceback.<locals>.error_handler\u001b[39m\u001b[34m(*args, **kwargs)\u001b[39m\n\u001b[32m    119\u001b[39m     filtered_tb = _process_traceback_frames(e.__traceback__)\n\u001b[32m    120\u001b[39m     \u001b[38;5;66;03m# To get the full stack trace, call:\u001b[39;00m\n\u001b[32m    121\u001b[39m     \u001b[38;5;66;03m# `keras.config.disable_traceback_filtering()`\u001b[39;00m\n\u001b[32m--> \u001b[39m\u001b[32m122\u001b[39m     \u001b[38;5;28;01mraise\u001b[39;00m e.with_traceback(filtered_tb) \u001b[38;5;28;01mfrom\u001b[39;00m\u001b[38;5;250m \u001b[39m\u001b[38;5;28;01mNone\u001b[39;00m\n\u001b[32m    123\u001b[39m \u001b[38;5;28;01mfinally\u001b[39;00m:\n\u001b[32m    124\u001b[39m     \u001b[38;5;28;01mdel\u001b[39;00m filtered_tb\n",
      "\u001b[36mFile \u001b[39m\u001b[32m~/Desktop/DA_GenAI_SD/Gen_AI/annclassification/venv/lib/python3.11/site-packages/keras/src/utils/traceback_utils.py:122\u001b[39m, in \u001b[36mfilter_traceback.<locals>.error_handler\u001b[39m\u001b[34m(*args, **kwargs)\u001b[39m\n\u001b[32m    119\u001b[39m     filtered_tb = _process_traceback_frames(e.__traceback__)\n\u001b[32m    120\u001b[39m     \u001b[38;5;66;03m# To get the full stack trace, call:\u001b[39;00m\n\u001b[32m    121\u001b[39m     \u001b[38;5;66;03m# `keras.config.disable_traceback_filtering()`\u001b[39;00m\n\u001b[32m--> \u001b[39m\u001b[32m122\u001b[39m     \u001b[38;5;28;01mraise\u001b[39;00m e.with_traceback(filtered_tb) \u001b[38;5;28;01mfrom\u001b[39;00m\u001b[38;5;250m \u001b[39m\u001b[38;5;28;01mNone\u001b[39;00m\n\u001b[32m    123\u001b[39m \u001b[38;5;28;01mfinally\u001b[39;00m:\n\u001b[32m    124\u001b[39m     \u001b[38;5;28;01mdel\u001b[39;00m filtered_tb\n",
      "\u001b[31mValueError\u001b[39m: Exception encountered when calling Sequential.call().\n\n\u001b[1mCannot take the length of shape with unknown rank.\u001b[0m\n\nArguments received by Sequential.call():\n  • inputs=tf.Tensor(shape=<unknown>, dtype=int32)\n  • training=False\n  • mask=None\n  • kwargs=<class 'inspect._empty'>"
     ]
    }
   ],
   "source": []
  },
  {
   "cell_type": "code",
   "execution_count": null,
   "id": "0ad55458",
   "metadata": {},
   "outputs": [],
   "source": []
  },
  {
   "cell_type": "code",
   "execution_count": null,
   "id": "8468b2ca",
   "metadata": {},
   "outputs": [],
   "source": []
  },
  {
   "cell_type": "code",
   "execution_count": null,
   "id": "da55bd64",
   "metadata": {},
   "outputs": [],
   "source": []
  },
  {
   "cell_type": "code",
   "execution_count": null,
   "id": "242191bf",
   "metadata": {},
   "outputs": [],
   "source": []
  },
  {
   "cell_type": "code",
   "execution_count": null,
   "id": "a60a17f4",
   "metadata": {},
   "outputs": [],
   "source": []
  }
 ],
 "metadata": {
  "kernelspec": {
   "display_name": "Python 3",
   "language": "python",
   "name": "python3"
  },
  "language_info": {
   "codemirror_mode": {
    "name": "ipython",
    "version": 3
   },
   "file_extension": ".py",
   "mimetype": "text/x-python",
   "name": "python",
   "nbconvert_exporter": "python",
   "pygments_lexer": "ipython3",
   "version": "3.11.8"
  }
 },
 "nbformat": 4,
 "nbformat_minor": 5
}
